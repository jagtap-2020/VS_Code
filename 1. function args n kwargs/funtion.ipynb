{
 "cells": [
  {
   "cell_type": "code",
   "execution_count": 1,
   "metadata": {},
   "outputs": [],
   "source": [
    "def multiply(*args):\n",
    "    p=1\n",
    "    for i in args:\n",
    "        p=i*p\n",
    "        return p"
   ]
  },
  {
   "cell_type": "code",
   "execution_count": 2,
   "metadata": {},
   "outputs": [],
   "source": [
    "args= [1,2,3,4,5]\n"
   ]
  },
  {
   "cell_type": "code",
   "execution_count": 7,
   "metadata": {},
   "outputs": [
    {
     "data": {
      "text/plain": [
       "120"
      ]
     },
     "execution_count": 7,
     "metadata": {},
     "output_type": "execute_result"
    }
   ],
   "source": [
    "multiply(*args)\n"
   ]
  },
  {
   "cell_type": "code",
   "execution_count": 8,
   "metadata": {},
   "outputs": [
    {
     "data": {
      "text/plain": [
       "10"
      ]
     },
     "execution_count": 8,
     "metadata": {},
     "output_type": "execute_result"
    }
   ],
   "source": [
    "multiply(2,5)"
   ]
  },
  {
   "cell_type": "code",
   "execution_count": 17,
   "metadata": {},
   "outputs": [],
   "source": [
    "def average(*args):\n",
    "    p= sum(args)/len(args)\n",
    "    return p"
   ]
  },
  {
   "cell_type": "code",
   "execution_count": 18,
   "metadata": {},
   "outputs": [
    {
     "data": {
      "text/plain": [
       "3.0"
      ]
     },
     "execution_count": 18,
     "metadata": {},
     "output_type": "execute_result"
    }
   ],
   "source": [
    "average(1,2,3,4,5)\n"
   ]
  },
  {
   "cell_type": "code",
   "execution_count": 14,
   "metadata": {},
   "outputs": [
    {
     "data": {
      "text/plain": [
       "5"
      ]
     },
     "execution_count": 14,
     "metadata": {},
     "output_type": "execute_result"
    }
   ],
   "source": [
    "len(args)"
   ]
  },
  {
   "cell_type": "code",
   "execution_count": 16,
   "metadata": {},
   "outputs": [
    {
     "data": {
      "text/plain": [
       "15"
      ]
     },
     "execution_count": 16,
     "metadata": {},
     "output_type": "execute_result"
    }
   ],
   "source": [
    "sum(args)"
   ]
  },
  {
   "cell_type": "code",
   "execution_count": 19,
   "metadata": {},
   "outputs": [],
   "source": [
    "def mm(*n):\n",
    "    avg= sum(n)/len(n)\n",
    "    return avg"
   ]
  },
  {
   "cell_type": "code",
   "execution_count": 22,
   "metadata": {},
   "outputs": [
    {
     "data": {
      "text/plain": [
       "49.5"
      ]
     },
     "execution_count": 22,
     "metadata": {},
     "output_type": "execute_result"
    }
   ],
   "source": [
    "mm(85, 56, 45 ,12 )"
   ]
  },
  {
   "cell_type": "code",
   "execution_count": null,
   "metadata": {},
   "outputs": [],
   "source": []
  },
  {
   "cell_type": "markdown",
   "metadata": {},
   "source": [
    "Billing example\n",
    "You have multiple products and customer can purchase differnt products and quantities\n",
    "Calcualte subtotal\n",
    "Add a tax rate (default of 18%)\n",
    "Add the tax to get final total"
   ]
  },
  {
   "cell_type": "markdown",
   "metadata": {},
   "source": []
  },
  {
   "cell_type": "code",
   "execution_count": 35,
   "metadata": {},
   "outputs": [],
   "source": [
    "purchase=[(100,3), (500,2), (200,5),(10,1), (300, 6)]\n"
   ]
  },
  {
   "cell_type": "code",
   "execution_count": 25,
   "metadata": {},
   "outputs": [
    {
     "data": {
      "text/plain": [
       "[(100, 3), (500, 2), (200, 5), (10, 1), (300, 6)]"
      ]
     },
     "execution_count": 25,
     "metadata": {},
     "output_type": "execute_result"
    }
   ],
   "source": [
    "purchase\n"
   ]
  },
  {
   "cell_type": "code",
   "execution_count": 31,
   "metadata": {},
   "outputs": [],
   "source": [
    "def billing(tax_amt, *args):\n",
    "    subtotal= 0\n",
    "    for price, qty in args:\n",
    "        print(f'Price : {price} INR, Quantity : {qty}, Amount : {price*qty} INR')\n",
    "        subtotal= subtotal+(price*qty)\n",
    "        print(f'Subtoital : {subtotal}')\n",
    "        tax= (tax_amt/100)* subtotal\n",
    "        print(f'Tax Amount : {tax}')\n",
    "        Total_Amt= subtotal+tax\n",
    "    return Total_Amt\n"
   ]
  },
  {
   "cell_type": "code",
   "execution_count": 36,
   "metadata": {},
   "outputs": [
    {
     "name": "stdout",
     "output_type": "stream",
     "text": [
      "Price : 100 INR, Quantity : 3, Amount : 300 INR\n",
      "Subtoital : 300\n",
      "Tax Amount : 54.0\n",
      "Price : 500 INR, Quantity : 2, Amount : 1000 INR\n",
      "Subtoital : 1300\n",
      "Tax Amount : 234.0\n",
      "Price : 200 INR, Quantity : 5, Amount : 1000 INR\n",
      "Subtoital : 2300\n",
      "Tax Amount : 414.0\n",
      "Price : 10 INR, Quantity : 1, Amount : 10 INR\n",
      "Subtoital : 2310\n",
      "Tax Amount : 415.8\n",
      "Price : 300 INR, Quantity : 6, Amount : 1800 INR\n",
      "Subtoital : 4110\n",
      "Tax Amount : 739.8\n"
     ]
    },
    {
     "data": {
      "text/plain": [
       "4849.8"
      ]
     },
     "execution_count": 36,
     "metadata": {},
     "output_type": "execute_result"
    }
   ],
   "source": [
    "billing(18, *purchase)"
   ]
  },
  {
   "cell_type": "code",
   "execution_count": null,
   "metadata": {},
   "outputs": [],
   "source": []
  },
  {
   "cell_type": "markdown",
   "metadata": {},
   "source": [
    "## Keyword Argument\n",
    "**kwargs\n",
    "kwargs act like dictionary in function"
   ]
  },
  {
   "cell_type": "code",
   "execution_count": null,
   "metadata": {},
   "outputs": [],
   "source": [
    "def func2(**kwargs):\n",
    "    print(kwargs)\n",
    "    print(type(kwargs))\n",
    "    for key, value in kwargs.items():\n",
    "        print(f'Key : {key}, Value : {value}')"
   ]
  },
  {
   "cell_type": "code",
   "execution_count": 60,
   "metadata": {},
   "outputs": [
    {
     "ename": "NameError",
     "evalue": "name 'fun2' is not defined",
     "output_type": "error",
     "traceback": [
      "\u001b[1;31m---------------------------------------------------------------------------\u001b[0m",
      "\u001b[1;31mNameError\u001b[0m                                 Traceback (most recent call last)",
      "Cell \u001b[1;32mIn[60], line 1\u001b[0m\n\u001b[1;32m----> 1\u001b[0m \u001b[43mfun2\u001b[49m( \n\u001b[0;32m      2\u001b[0m     name \u001b[38;5;241m=\u001b[39m\u001b[38;5;124m\"\u001b[39m\u001b[38;5;124mAishwarya\u001b[39m\u001b[38;5;124m\"\u001b[39m,\n\u001b[0;32m      3\u001b[0m     Surname \u001b[38;5;241m=\u001b[39m \u001b[38;5;124m\"\u001b[39m\u001b[38;5;124mKadam\u001b[39m\u001b[38;5;124m\"\u001b[39m,\n\u001b[0;32m      4\u001b[0m     Job_Role \u001b[38;5;241m=\u001b[39m \u001b[38;5;124m\"\u001b[39m\u001b[38;5;124mData Analyst\u001b[39m\u001b[38;5;124m\"\u001b[39m,\n\u001b[0;32m      5\u001b[0m     City\u001b[38;5;241m=\u001b[39m \u001b[38;5;124m\"\u001b[39m\u001b[38;5;124mPune\u001b[39m\u001b[38;5;124m\"\u001b[39m,\n\u001b[0;32m      6\u001b[0m     Salary\u001b[38;5;241m=\u001b[39m \u001b[38;5;241m35000\u001b[39m\n\u001b[0;32m      7\u001b[0m )\n",
      "\u001b[1;31mNameError\u001b[0m: name 'fun2' is not defined"
     ]
    }
   ],
   "source": [
    "fun2( \n",
    "    name =\"Aishwarya\",\n",
    "    Surname = \"Kadam\",\n",
    "    Job_Role = \"Data Analyst\",\n",
    "    City= \"Pune\",\n",
    "    Salary= 35000\n",
    ")"
   ]
  },
  {
   "cell_type": "code",
   "execution_count": 52,
   "metadata": {},
   "outputs": [
    {
     "ename": "NameError",
     "evalue": "name 'func2' is not defined",
     "output_type": "error",
     "traceback": [
      "\u001b[1;31m---------------------------------------------------------------------------\u001b[0m",
      "\u001b[1;31mNameError\u001b[0m                                 Traceback (most recent call last)",
      "Cell \u001b[1;32mIn[52], line 1\u001b[0m\n\u001b[1;32m----> 1\u001b[0m \u001b[43mfunc2\u001b[49m(name \u001b[38;5;241m=\u001b[39m \u001b[38;5;124m\"\u001b[39m\u001b[38;5;124mUtkarsh\u001b[39m\u001b[38;5;124m\"\u001b[39m, \n\u001b[0;32m      2\u001b[0m       occupation\u001b[38;5;241m=\u001b[39m\u001b[38;5;124m\"\u001b[39m\u001b[38;5;124mData Scientist\u001b[39m\u001b[38;5;124m\"\u001b[39m, \n\u001b[0;32m      3\u001b[0m       age\u001b[38;5;241m=\u001b[39m\u001b[38;5;241m30\u001b[39m,\n\u001b[0;32m      4\u001b[0m       hobbies\u001b[38;5;241m=\u001b[39m[\u001b[38;5;124m\"\u001b[39m\u001b[38;5;124mGuitar\u001b[39m\u001b[38;5;124m\"\u001b[39m, \u001b[38;5;124m\"\u001b[39m\u001b[38;5;124mSkating\u001b[39m\u001b[38;5;124m\"\u001b[39m])\n",
      "\u001b[1;31mNameError\u001b[0m: name 'func2' is not defined"
     ]
    }
   ],
   "source": [
    "func2(name = \"Utkarsh\", \n",
    "      occupation=\"Data Scientist\", \n",
    "      age=30,\n",
    "      hobbies=[\"Guitar\", \"Skating\"])"
   ]
  },
  {
   "cell_type": "code",
   "execution_count": 53,
   "metadata": {},
   "outputs": [],
   "source": [
    "def user_profile(username, email, **kwargs):\n",
    "    profile = {\"username\": username, \"email\":email}\n",
    "    for key, value in kwargs.items():\n",
    "        profile[key] = value\n",
    "    return profile"
   ]
  },
  {
   "cell_type": "code",
   "execution_count": 54,
   "metadata": {},
   "outputs": [],
   "source": [
    "u1 = user_profile(username=\"sartharks3\", email=\"sarthak@gmail.com\")"
   ]
  },
  {
   "cell_type": "code",
   "execution_count": 55,
   "metadata": {},
   "outputs": [
    {
     "data": {
      "text/plain": [
       "{'username': 'sartharks3', 'email': 'sarthak@gmail.com'}"
      ]
     },
     "execution_count": 55,
     "metadata": {},
     "output_type": "execute_result"
    }
   ],
   "source": [
    "u1\n"
   ]
  },
  {
   "cell_type": "code",
   "execution_count": 56,
   "metadata": {},
   "outputs": [],
   "source": [
    "u2 = user_profile(username=\"aditim4\",\n",
    "                  email=\"aditi@test.com\",\n",
    "                  age=28,\n",
    "                  city=\"Pune\",\n",
    "                  contact=\"9876543210\")\n"
   ]
  },
  {
   "cell_type": "code",
   "execution_count": 57,
   "metadata": {},
   "outputs": [
    {
     "data": {
      "text/plain": [
       "{'username': 'aditim4',\n",
       " 'email': 'aditi@test.com',\n",
       " 'age': 28,\n",
       " 'city': 'Pune',\n",
       " 'contact': '9876543210'}"
      ]
     },
     "execution_count": 57,
     "metadata": {},
     "output_type": "execute_result"
    }
   ],
   "source": [
    "u2"
   ]
  },
  {
   "cell_type": "code",
   "execution_count": 58,
   "metadata": {},
   "outputs": [],
   "source": [
    "def func2(**kwargs):\n",
    "    print(kwargs)\n",
    "    print(type(kwargs))\n",
    "    for key, value in kwargs.items():\n",
    "        print(f'Key : {key}, Value : {value}')"
   ]
  },
  {
   "cell_type": "code",
   "execution_count": 61,
   "metadata": {},
   "outputs": [
    {
     "name": "stdout",
     "output_type": "stream",
     "text": [
      "{'name': 'Utkarsh', 'occupation': 'Data Scientist', 'age': 30, 'hobbies': ['Guitar', 'Skating']}\n",
      "<class 'dict'>\n",
      "Key : name, Value : Utkarsh\n",
      "Key : occupation, Value : Data Scientist\n",
      "Key : age, Value : 30\n",
      "Key : hobbies, Value : ['Guitar', 'Skating']\n"
     ]
    }
   ],
   "source": [
    "func2(name = \"Utkarsh\", \n",
    "      occupation=\"Data Scientist\", \n",
    "      age=30,\n",
    "      hobbies=[\"Guitar\", \"Skating\"])"
   ]
  },
  {
   "cell_type": "code",
   "execution_count": 70,
   "metadata": {},
   "outputs": [],
   "source": [
    "def func3(**kwargs):\n",
    "    print(kwargs)\n",
    "    print(type(kwargs))\n",
    "    for key, value in kwargs.items():\n",
    "        print(f'Key : {key}, Value : {value}')\n",
    "\n"
   ]
  },
  {
   "cell_type": "code",
   "execution_count": 69,
   "metadata": {},
   "outputs": [
    {
     "name": "stdout",
     "output_type": "stream",
     "text": [
      "{'name': 'Aishwarya', 'surname': 'Kadam', 'jobrole': 'Data Analyst', 'city': 'Pune', 'salary': 35000}\n",
      "<class 'dict'>\n",
      "Key : name, Value : Aishwarya\n",
      "Key : surname, Value : Kadam\n",
      "Key : jobrole, Value : Data Analyst\n",
      "Key : city, Value : Pune\n",
      "Key : salary, Value : 35000\n"
     ]
    }
   ],
   "source": [
    "func3( \n",
    "    name = \"Aishwarya\",\n",
    "    surname = \"Kadam\",\n",
    "    jobrole = \"Data Analyst\",\n",
    "    city= \"Pune\",\n",
    "    salary= 35000\n",
    ")"
   ]
  },
  {
   "cell_type": "code",
   "execution_count": 71,
   "metadata": {},
   "outputs": [],
   "source": [
    "# Prices including tax\n",
    "menu = {\"Burger\" : 150,\n",
    "        \"Sandwich\" : 100,\n",
    "        \"Pasta\": 200,\n",
    "        \"Pizza\": 400,\n",
    "        \"Soft_Drinks\" : 50}"
   ]
  },
  {
   "cell_type": "code",
   "execution_count": 72,
   "metadata": {},
   "outputs": [
    {
     "data": {
      "text/plain": [
       "400"
      ]
     },
     "execution_count": 72,
     "metadata": {},
     "output_type": "execute_result"
    }
   ],
   "source": [
    "menu[\"Pizza\"]"
   ]
  },
  {
   "cell_type": "code",
   "execution_count": 73,
   "metadata": {},
   "outputs": [
    {
     "ename": "KeyError",
     "evalue": "'Paneer'",
     "output_type": "error",
     "traceback": [
      "\u001b[1;31m---------------------------------------------------------------------------\u001b[0m",
      "\u001b[1;31mKeyError\u001b[0m                                  Traceback (most recent call last)",
      "Cell \u001b[1;32mIn[73], line 1\u001b[0m\n\u001b[1;32m----> 1\u001b[0m \u001b[43mmenu\u001b[49m\u001b[43m[\u001b[49m\u001b[38;5;124;43m\"\u001b[39;49m\u001b[38;5;124;43mPaneer\u001b[39;49m\u001b[38;5;124;43m\"\u001b[39;49m\u001b[43m]\u001b[49m\n",
      "\u001b[1;31mKeyError\u001b[0m: 'Paneer'"
     ]
    }
   ],
   "source": [
    "menu[\"Paneer\"]"
   ]
  },
  {
   "cell_type": "code",
   "execution_count": 74,
   "metadata": {},
   "outputs": [],
   "source": [
    "menu.get(\"Paneer\")"
   ]
  },
  {
   "cell_type": "code",
   "execution_count": 75,
   "metadata": {},
   "outputs": [
    {
     "name": "stdout",
     "output_type": "stream",
     "text": [
      "None\n"
     ]
    }
   ],
   "source": [
    "print(menu.get(\"Paneer\"))"
   ]
  },
  {
   "cell_type": "code",
   "execution_count": 76,
   "metadata": {},
   "outputs": [],
   "source": [
    "def restaurant(**kwargs):\n",
    "    total = 0\n",
    "    for food, qty in kwargs.items():\n",
    "        if menu.get(food) is not None:\n",
    "            price = menu.get(food)\n",
    "            amt = price*qty\n",
    "            print(f'Food item : {food}')\n",
    "            print(f'Price : {price} INR')\n",
    "            print(f'Quantity : {qty}')\n",
    "            print(f'Amount : {amt} INR')\n",
    "            total += amt\n",
    "            print('\\n=========================================\\n')\n",
    "    print(f'Total Bill is : {total:.2f} INR')\n",
    "    return total\n"
   ]
  },
  {
   "cell_type": "code",
   "execution_count": 77,
   "metadata": {},
   "outputs": [
    {
     "name": "stdout",
     "output_type": "stream",
     "text": [
      "Food item : Burger\n",
      "Price : 150 INR\n",
      "Quantity : 2\n",
      "Amount : 300 INR\n",
      "\n",
      "=========================================\n",
      "\n",
      "Food item : Sandwich\n",
      "Price : 100 INR\n",
      "Quantity : 1\n",
      "Amount : 100 INR\n",
      "\n",
      "=========================================\n",
      "\n",
      "Food item : Soft_Drinks\n",
      "Price : 50 INR\n",
      "Quantity : 3\n",
      "Amount : 150 INR\n",
      "\n",
      "=========================================\n",
      "\n",
      "Total Bill is : 550.00 INR\n"
     ]
    }
   ],
   "source": [
    "c1 = restaurant(Burger=2, Sandwich=1, Soft_Drinks=3)"
   ]
  },
  {
   "cell_type": "code",
   "execution_count": 78,
   "metadata": {},
   "outputs": [],
   "source": [
    "order2 = {\n",
    "    \"Pizza\" : 4,\n",
    "    \"Pasta\" : 2,\n",
    "    \"Burger\" : 1,\n",
    "    \"Soft_Drinks\": 3\n",
    "}"
   ]
  },
  {
   "cell_type": "code",
   "execution_count": 79,
   "metadata": {},
   "outputs": [
    {
     "name": "stdout",
     "output_type": "stream",
     "text": [
      "Food item : Pizza\n",
      "Price : 400 INR\n",
      "Quantity : 4\n",
      "Amount : 1600 INR\n",
      "\n",
      "=========================================\n",
      "\n",
      "Food item : Pasta\n",
      "Price : 200 INR\n",
      "Quantity : 2\n",
      "Amount : 400 INR\n",
      "\n",
      "=========================================\n",
      "\n",
      "Food item : Burger\n",
      "Price : 150 INR\n",
      "Quantity : 1\n",
      "Amount : 150 INR\n",
      "\n",
      "=========================================\n",
      "\n",
      "Food item : Soft_Drinks\n",
      "Price : 50 INR\n",
      "Quantity : 3\n",
      "Amount : 150 INR\n",
      "\n",
      "=========================================\n",
      "\n",
      "Total Bill is : 2300.00 INR\n"
     ]
    }
   ],
   "source": [
    "c2 = restaurant(**order2)"
   ]
  },
  {
   "cell_type": "code",
   "execution_count": null,
   "metadata": {},
   "outputs": [],
   "source": []
  }
 ],
 "metadata": {
  "kernelspec": {
   "display_name": "venv",
   "language": "python",
   "name": "python3"
  },
  "language_info": {
   "codemirror_mode": {
    "name": "ipython",
    "version": 3
   },
   "file_extension": ".py",
   "mimetype": "text/x-python",
   "name": "python",
   "nbconvert_exporter": "python",
   "pygments_lexer": "ipython3",
   "version": "3.12.4"
  }
 },
 "nbformat": 4,
 "nbformat_minor": 2
}
